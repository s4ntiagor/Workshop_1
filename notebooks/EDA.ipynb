{
 "cells": [
  {
   "cell_type": "markdown",
   "metadata": {},
   "source": [
    "**Limpieza del Dataset**\n"
   ]
  },
  {
   "cell_type": "code",
   "execution_count": 7,
   "metadata": {},
   "outputs": [
    {
     "name": "stdout",
     "output_type": "stream",
     "text": [
      "Primeras 5 filas del DataFrame:\n",
      "  First Name;Last Name;Email;Application Date;Country;YOE;Seniority;Technology;Code Challenge Score;Technical Interview Score\n",
      "0  Bernadette;Langworth;leonard91@yahoo.com;2021-...                                                                         \n",
      "1  Camryn;Reynolds;zelda56@hotmail.com;2021-09-09...                                                                         \n",
      "2  Larue;Spinka;okey_schultz41@gmail.com;2020-04-...                                                                         \n",
      "3  Arch;Spinka;elvera_kulas@yahoo.com;2020-10-01;...                                                                         \n",
      "4  Larue;Altenwerth;minnie.gislason@gmail.com;202...                                                                         \n",
      "\n",
      "Información del DataFrame:\n",
      "<class 'pandas.core.frame.DataFrame'>\n",
      "RangeIndex: 50000 entries, 0 to 49999\n",
      "Data columns (total 1 columns):\n",
      " #   Column                                                                                                                       Non-Null Count  Dtype \n",
      "---  ------                                                                                                                       --------------  ----- \n",
      " 0   First Name;Last Name;Email;Application Date;Country;YOE;Seniority;Technology;Code Challenge Score;Technical Interview Score  50000 non-null  object\n",
      "dtypes: object(1)\n",
      "memory usage: 390.8+ KB\n"
     ]
    }
   ],
   "source": [
    "import pandas as pd\n",
    "\n",
    "# Reemplaza 'tu_archivo.csv' con el camino al archivo CSV que quieres analizar\n",
    "archivo_csv = 'candidates.csv'\n",
    "\n",
    "# Cargar el CSV en un DataFrame de pandas\n",
    "df = pd.read_csv(archivo_csv)\n",
    "\n",
    "# Mostrar las primeras 5 filas del DataFrame para tener una idea de los datos\n",
    "print(\"Primeras 5 filas del DataFrame:\")\n",
    "print(df.head())\n",
    "\n",
    "# Mostrar información general del DataFrame, incluyendo el tipo de dato de cada columna\n",
    "print(\"\\nInformación del DataFrame:\")\n",
    "df.info()"
   ]
  },
  {
   "cell_type": "code",
   "execution_count": 10,
   "metadata": {},
   "outputs": [
    {
     "name": "stdout",
     "output_type": "stream",
     "text": [
      "<class 'pandas.core.frame.DataFrame'>\n",
      "RangeIndex: 50000 entries, 0 to 49999\n",
      "Data columns (total 10 columns):\n",
      " #   Column                     Non-Null Count  Dtype \n",
      "---  ------                     --------------  ----- \n",
      " 0   First Name                 50000 non-null  object\n",
      " 1   Last Name                  50000 non-null  object\n",
      " 2   Email                      50000 non-null  object\n",
      " 3   Application Date           50000 non-null  object\n",
      " 4   Country                    50000 non-null  object\n",
      " 5   YOE                        50000 non-null  int64 \n",
      " 6   Seniority                  50000 non-null  object\n",
      " 7   Technology                 50000 non-null  object\n",
      " 8   Code Challenge Score       50000 non-null  int64 \n",
      " 9   Technical Interview Score  50000 non-null  int64 \n",
      "dtypes: int64(3), object(7)\n",
      "memory usage: 3.8+ MB\n"
     ]
    },
    {
     "data": {
      "text/plain": [
       "(   First Name   Last Name                      Email Application Date  \\\n",
       " 0  Bernadette   Langworth        leonard91@yahoo.com       2021-02-26   \n",
       " 1      Camryn    Reynolds        zelda56@hotmail.com       2021-09-09   \n",
       " 2       Larue      Spinka   okey_schultz41@gmail.com       2020-04-14   \n",
       " 3        Arch      Spinka     elvera_kulas@yahoo.com       2020-10-01   \n",
       " 4       Larue  Altenwerth  minnie.gislason@gmail.com       2020-05-20   \n",
       " \n",
       "    Country  YOE  Seniority                         Technology  \\\n",
       " 0   Norway    2     Intern                      Data Engineer   \n",
       " 1   Panama   10     Intern                      Data Engineer   \n",
       " 2  Belarus    4  Mid-Level                     Client Success   \n",
       " 3  Eritrea   25    Trainee                          QA Manual   \n",
       " 4  Myanmar   13  Mid-Level  Social Media Community Management   \n",
       " \n",
       "    Code Challenge Score  Technical Interview Score  \n",
       " 0                     3                          3  \n",
       " 1                     2                         10  \n",
       " 2                    10                          9  \n",
       " 3                     7                          1  \n",
       " 4                     9                          7  ,\n",
       " None)"
      ]
     },
     "execution_count": 10,
     "metadata": {},
     "output_type": "execute_result"
    }
   ],
   "source": [
    "# Recargar el CSV usando ';' como delimitador\n",
    "df = pd.read_csv(archivo_csv, delimiter=';')\n",
    "\n",
    "# Mostrar nuevamente las primeras filas y la información del DataFrame con el delimitador correcto\n",
    "df_head_corrected = df.head()\n",
    "df_info_corrected = df.info()\n",
    "\n",
    "df_head_corrected, df_info_corrected\n"
   ]
  },
  {
   "cell_type": "code",
   "execution_count": 9,
   "metadata": {},
   "outputs": [
    {
     "data": {
      "text/plain": [
       "First Name                           object\n",
       "Last Name                            object\n",
       "Email                                object\n",
       "Application Date             datetime64[ns]\n",
       "Country                              object\n",
       "YOE                                   int64\n",
       "Seniority                            object\n",
       "Technology                           object\n",
       "Code Challenge Score                  int64\n",
       "Technical Interview Score             int64\n",
       "dtype: object"
      ]
     },
     "execution_count": 9,
     "metadata": {},
     "output_type": "execute_result"
    }
   ],
   "source": [
    "# Convert 'Application Date' from object to datetime format\n",
    "df['Application Date'] = pd.to_datetime(df['Application Date'])\n",
    "\n",
    "# Check data types after conversion to confirm the change\n",
    "data_types_after = df.dtypes\n",
    "\n",
    "data_types_after\n"
   ]
  }
 ],
 "metadata": {
  "kernelspec": {
   "display_name": "Python 3",
   "language": "python",
   "name": "python3"
  },
  "language_info": {
   "codemirror_mode": {
    "name": "ipython",
    "version": 3
   },
   "file_extension": ".py",
   "mimetype": "text/x-python",
   "name": "python",
   "nbconvert_exporter": "python",
   "pygments_lexer": "ipython3",
   "version": "3.11.8"
  }
 },
 "nbformat": 4,
 "nbformat_minor": 2
}
