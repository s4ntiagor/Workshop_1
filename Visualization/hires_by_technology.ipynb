{
 "cells": [
  {
   "cell_type": "code",
   "execution_count": 2,
   "metadata": {},
   "outputs": [
    {
     "name": "stderr",
     "output_type": "stream",
     "text": [
      "C:\\Users\\valen\\AppData\\Local\\Temp\\ipykernel_1948\\1122502516.py:2: DeprecationWarning: \n",
      "Pyarrow will become a required dependency of pandas in the next major release of pandas (pandas 3.0),\n",
      "(to allow more performant data types, such as the Arrow string type, and better interoperability with other libraries)\n",
      "but was not found to be installed on your system.\n",
      "If this would cause problems for you,\n",
      "please provide us feedback at https://github.com/pandas-dev/pandas/issues/54466\n",
      "        \n",
      "  import pandas as pd\n"
     ]
    }
   ],
   "source": [
    "import psycopg2\n",
    "import pandas as pd\n",
    "import json"
   ]
  },
  {
   "cell_type": "code",
   "execution_count": 8,
   "metadata": {},
   "outputs": [
    {
     "name": "stdout",
     "output_type": "stream",
     "text": [
      "Connection to the database was successful\n"
     ]
    },
    {
     "data": {
      "text/plain": [
       "<connection object at 0x0000023EA5165250; dsn: 'user=postgres password=xxx dbname=workshop3 host=localhost', closed: 0>"
      ]
     },
     "execution_count": 8,
     "metadata": {},
     "output_type": "execute_result"
    }
   ],
   "source": [
    "def connect_to_db():\n",
    "    db_conn = None\n",
    "    try:\n",
    "        with open('C:/Users/valen/OneDrive/Documentos/workshop_1/Workshop_1/loading_to_postgres/db_config.json', 'r') as config_file:\n",
    "            db_settings = json.load(config_file)\n",
    "\n",
    "        db_conn = psycopg2.connect(\n",
    "            host='localhost',\n",
    "            user=db_settings['user'],\n",
    "            password=db_settings['password'],\n",
    "            dbname=db_settings['database']\n",
    "        )\n",
    "        print('Connection to the database was successful')\n",
    "    except psycopg2.DatabaseError as db_error:\n",
    "        print('Failed to connect to the database:', db_error)\n",
    "    return db_conn\n",
    "\n",
    "connect_to_db()"
   ]
  },
  {
   "cell_type": "code",
   "execution_count": 9,
   "metadata": {},
   "outputs": [
    {
     "name": "stdout",
     "output_type": "stream",
     "text": [
      "Connection to the database was successful\n",
      "                                 Technology  Hires\n",
      "0                 Development - CMS Backend    284\n",
      "1                             Data Engineer    255\n",
      "2                                Salesforce    256\n",
      "3                                     Sales    239\n",
      "4                             QA Automation    243\n",
      "5                                    DevOps    495\n",
      "6                                 QA Manual    259\n",
      "7                     System Administration    293\n",
      "8                   Development - FullStack    254\n",
      "9                   Database Administration    282\n",
      "10                    Business Intelligence    254\n",
      "11               Development - CMS Frontend    251\n",
      "12                         Game Development    519\n",
      "13                      Security Compliance    250\n",
      "14                           Client Success    271\n",
      "15                    Development - Backend    255\n",
      "16                   Development - Frontend    266\n",
      "17                                 Security    266\n",
      "18        Social Media Community Management    237\n",
      "19                                 Mulesoft    260\n",
      "20                        Technical Writing    223\n",
      "21                                   Design    249\n",
      "22                 Adobe Experience Manager    282\n",
      "23  Business Analytics / Project Management    255\n"
     ]
    }
   ],
   "source": [
    "def get_hires_by_technology(db_conn):\n",
    "    # Creamos un objeto cursor utilizando la conexión a la base de datos\n",
    "    cursor = db_conn.cursor()\n",
    "    \n",
    "    # Definimos la consulta SQL para contar los contratados agrupados por tecnología\n",
    "    query = \"\"\"\n",
    "    SELECT tech_stack, COUNT(*) \n",
    "    FROM applicants \n",
    "    WHERE hired_status = True \n",
    "    GROUP BY tech_stack;\n",
    "    \"\"\"\n",
    "    \n",
    "    try:\n",
    "        cursor.execute(query)\n",
    "        hires_by_tech = cursor.fetchall()\n",
    "        df_hires_by_tech = pd.DataFrame(hires_by_tech, columns=['Technology', 'Hires'])\n",
    "        return df_hires_by_tech\n",
    "    except psycopg2.DatabaseError as e:\n",
    "        print(\"Database error:\", e)\n",
    "    finally:\n",
    "        cursor.close()\n",
    "\n",
    "db_conn = connect_to_db()\n",
    "if db_conn:\n",
    "    hires_by_technology_df = get_hires_by_technology(db_conn)\n",
    "    db_conn.close()  # Cerramos la conexión cuando terminamos\n",
    "    print(hires_by_technology_df)  # Imprimimos el DataFrame obtenido\n",
    "else:\n",
    "    print(\"No se pudo establecer una conexión con la base de datos.\")"
   ]
  }
 ],
 "metadata": {
  "kernelspec": {
   "display_name": "venv_workshop1",
   "language": "python",
   "name": "python3"
  },
  "language_info": {
   "codemirror_mode": {
    "name": "ipython",
    "version": 3
   },
   "file_extension": ".py",
   "mimetype": "text/x-python",
   "name": "python",
   "nbconvert_exporter": "python",
   "pygments_lexer": "ipython3",
   "version": "3.11.8"
  }
 },
 "nbformat": 4,
 "nbformat_minor": 2
}
