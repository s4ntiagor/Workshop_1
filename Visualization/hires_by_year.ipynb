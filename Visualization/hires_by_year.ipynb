{
 "cells": [
  {
   "cell_type": "code",
   "execution_count": 4,
   "metadata": {},
   "outputs": [
    {
     "name": "stderr",
     "output_type": "stream",
     "text": [
      "C:\\Users\\valen\\AppData\\Local\\Temp\\ipykernel_10236\\1122502516.py:2: DeprecationWarning: \n",
      "Pyarrow will become a required dependency of pandas in the next major release of pandas (pandas 3.0),\n",
      "(to allow more performant data types, such as the Arrow string type, and better interoperability with other libraries)\n",
      "but was not found to be installed on your system.\n",
      "If this would cause problems for you,\n",
      "please provide us feedback at https://github.com/pandas-dev/pandas/issues/54466\n",
      "        \n",
      "  import pandas as pd\n"
     ]
    }
   ],
   "source": [
    "import psycopg2\n",
    "import pandas as pd\n",
    "import json"
   ]
  },
  {
   "cell_type": "code",
   "execution_count": 5,
   "metadata": {},
   "outputs": [
    {
     "name": "stdout",
     "output_type": "stream",
     "text": [
      "Connection to the database was successful\n"
     ]
    },
    {
     "data": {
      "text/plain": [
       "<connection object at 0x000001CBDCA85F10; dsn: 'user=postgres password=xxx dbname=workshop3 host=localhost', closed: 0>"
      ]
     },
     "execution_count": 5,
     "metadata": {},
     "output_type": "execute_result"
    }
   ],
   "source": [
    "def connect_to_db():\n",
    "    db_conn = None\n",
    "    try:\n",
    "        with open('C:/Users/valen/OneDrive/Documentos/workshop_1/Workshop_1/loading_to_postgres/db_config.json', 'r') as config_file:\n",
    "            db_settings = json.load(config_file)\n",
    "\n",
    "        db_conn = psycopg2.connect(\n",
    "            host='localhost',\n",
    "            user=db_settings['user'],\n",
    "            password=db_settings['password'],\n",
    "            dbname=db_settings['database']\n",
    "        )\n",
    "        print('Connection to the database was successful')\n",
    "    except psycopg2.DatabaseError as db_error:\n",
    "        print('Failed to connect to the database:', db_error)\n",
    "    return db_conn\n",
    "\n",
    "connect_to_db()"
   ]
  },
  {
   "cell_type": "code",
   "execution_count": 7,
   "metadata": {},
   "outputs": [
    {
     "name": "stdout",
     "output_type": "stream",
     "text": [
      "Connection to the database was successful\n",
      "   Year  Hires\n",
      "0  2018   1409\n",
      "1  2019   1524\n",
      "2  2020   1485\n",
      "3  2021   1485\n",
      "4  2022    795\n"
     ]
    }
   ],
   "source": [
    "def get_hires_by_year(db_conn):\n",
    "    # Creamos un objeto cursor utilizando la conexión a la base de datos\n",
    "    cursor = db_conn.cursor()\n",
    "    \n",
    "    # Definimos la consulta SQL para contar los contratados agrupados por año\n",
    "    query = \"\"\"\n",
    "    SELECT EXTRACT(YEAR FROM date_of_application) AS year, COUNT(*) \n",
    "    FROM applicants \n",
    "    WHERE hired_status = 'True' \n",
    "    GROUP BY year\n",
    "    ORDER BY year;\n",
    "    \"\"\"\n",
    "    \n",
    "    try:\n",
    "        # Ejecutamos la consulta\n",
    "        cursor.execute(query)\n",
    "        # Obtenemos todos los resultados de la consulta\n",
    "        hires_by_year = cursor.fetchall()\n",
    "        # Creamos un DataFrame a partir de los resultados\n",
    "        df_hires_by_year = pd.DataFrame(hires_by_year, columns=['Year', 'Hires'])\n",
    "        return df_hires_by_year\n",
    "    except psycopg2.DatabaseError as e:\n",
    "        print(\"Database error:\", e)\n",
    "    finally:\n",
    "        # Cerramos el cursor\n",
    "        cursor.close()\n",
    "\n",
    "# Ahora llamamos a la función 'get_hires_by_year' usando la conexión establecida\n",
    "db_conn = connect_to_db()\n",
    "if db_conn:\n",
    "    hires_by_year_df = get_hires_by_year(db_conn)\n",
    "    db_conn.close()  # Aseguramos cerrar la conexión\n",
    "    print(hires_by_year_df)\n",
    "else:\n",
    "    print(\"No se pudo establecer una conexión con la base de datos.\")\n",
    "\n"
   ]
  }
 ],
 "metadata": {
  "kernelspec": {
   "display_name": "venv_workshop1",
   "language": "python",
   "name": "python3"
  },
  "language_info": {
   "codemirror_mode": {
    "name": "ipython",
    "version": 3
   },
   "file_extension": ".py",
   "mimetype": "text/x-python",
   "name": "python",
   "nbconvert_exporter": "python",
   "pygments_lexer": "ipython3",
   "version": "3.11.8"
  }
 },
 "nbformat": 4,
 "nbformat_minor": 2
}
