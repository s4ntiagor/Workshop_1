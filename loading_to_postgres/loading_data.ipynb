{
 "cells": [
  {
   "cell_type": "code",
   "execution_count": 1,
   "metadata": {},
   "outputs": [
    {
     "name": "stderr",
     "output_type": "stream",
     "text": [
      "C:\\Users\\valen\\AppData\\Local\\Temp\\ipykernel_9516\\3681093721.py:3: DeprecationWarning: \n",
      "Pyarrow will become a required dependency of pandas in the next major release of pandas (pandas 3.0),\n",
      "(to allow more performant data types, such as the Arrow string type, and better interoperability with other libraries)\n",
      "but was not found to be installed on your system.\n",
      "If this would cause problems for you,\n",
      "please provide us feedback at https://github.com/pandas-dev/pandas/issues/54466\n",
      "        \n",
      "  import pandas as pd\n"
     ]
    }
   ],
   "source": [
    "import psycopg2\n",
    "from psycopg2 import OperationalError\n",
    "import pandas as pd\n",
    "import json\n",
    "\n",
    "df = pd.read_csv(\"C:/Users/valen/OneDrive/Documentos/workshop_1/dataset/candidates.csv\", sep=\";\")"
   ]
  },
  {
   "cell_type": "code",
   "execution_count": 7,
   "metadata": {},
   "outputs": [
    {
     "name": "stdout",
     "output_type": "stream",
     "text": [
      "La base de datos 'workshop2' ha sido creada con éxito.\n"
     ]
    }
   ],
   "source": [
    "#Creating the database\n",
    "def create_database(db_name):\n",
    "    with open('database.json', 'r') as config_file:\n",
    "        config = json.load(config_file)\n",
    "\n",
    "    conn = psycopg2.connect(\n",
    "        host=config['host'],\n",
    "        user=config['user'],\n",
    "        password=config['password']\n",
    "    )\n",
    "    conn.autocommit = True\n",
    "\n",
    "    cursor = conn.cursor()\n",
    "\n",
    "    cursor.execute(f\"DROP DATABASE IF EXISTS {db_name};\")\n",
    "    cursor.execute(f\"CREATE DATABASE {db_name};\")\n",
    "\n",
    "    cursor.close()\n",
    "    conn.close()\n",
    "    print(f\"the database '{db_name}' has been sucessfully created.\")\n"
   ]
  },
  {
   "cell_type": "code",
   "execution_count": 3,
   "metadata": {},
   "outputs": [
    {
     "name": "stdout",
     "output_type": "stream",
     "text": [
      "Connection to the database was successful\n"
     ]
    },
    {
     "data": {
      "text/plain": [
       "<connection object at 0x000002448B592130; dsn: 'user=postgres password=xxx dbname=workshop3 host=localhost', closed: 0>"
      ]
     },
     "execution_count": 3,
     "metadata": {},
     "output_type": "execute_result"
    }
   ],
   "source": [
    "def connect_to_db():\n",
    "    db_conn = None\n",
    "    try:\n",
    "        with open('db_config.json', 'r') as config_file:\n",
    "            db_settings = json.load(config_file)\n",
    "\n",
    "        db_conn = psycopg2.connect(\n",
    "            host='localhost',\n",
    "            user=db_settings['user'],\n",
    "            password=db_settings['password'],\n",
    "            dbname=db_settings['database']\n",
    "        )\n",
    "        print('Connection to the database was successful')\n",
    "    except psycopg2.DatabaseError as db_error:\n",
    "        print('Failed to connect to the database:', db_error)\n",
    "    return db_conn\n",
    "\n",
    "connect_to_db()"
   ]
  },
  {
   "cell_type": "code",
   "execution_count": 10,
   "metadata": {},
   "outputs": [
    {
     "name": "stdout",
     "output_type": "stream",
     "text": [
      "Connection to the database was successful\n",
      "The \"applicants\" table has been successfully created.\n"
     ]
    }
   ],
   "source": [
    "def setup_candidates_table():\n",
    "    table_creation_sql = '''\n",
    "        CREATE TABLE IF NOT EXISTS applicants (\n",
    "            CandidateID SERIAL PRIMARY KEY,\n",
    "            first_name VARCHAR(255) NOT NULL,\n",
    "            last_name VARCHAR(255) NOT NULL,\n",
    "            email_address VARCHAR(255) NOT NULL,\n",
    "            date_of_application DATE NOT NULL,\n",
    "            country_of_origin VARCHAR(255) NOT NULL,\n",
    "            experience_years INT NOT NULL,\n",
    "            level_of_seniority VARCHAR(255) NOT NULL,\n",
    "            tech_stack VARCHAR(255) NOT NULL,\n",
    "            code_challenge_result SMALLINT NOT NULL,\n",
    "            interview_score SMALLINT NOT NULL,\n",
    "            hired_status BOOLEAN NOT NULL\n",
    "        );\n",
    "    '''\n",
    "    db_connection = None\n",
    "    try:\n",
    "        db_connection = connect_to_db()\n",
    "        db_cursor = db_connection.cursor()\n",
    "        db_cursor.execute(table_creation_sql)\n",
    "        db_cursor.close()\n",
    "        db_connection.commit()\n",
    "        print('The \"applicants\" table has been successfully created.')\n",
    "    except (Exception, psycopg2.DatabaseError) as db_error:\n",
    "        print('Error while creating the table:', db_error)\n",
    "    finally:\n",
    "        if db_connection is not None:\n",
    "            db_connection.close()\n",
    "\n",
    "setup_candidates_table()"
   ]
  },
  {
   "cell_type": "code",
   "execution_count": 12,
   "metadata": {},
   "outputs": [
    {
     "name": "stdout",
     "output_type": "stream",
     "text": [
      "Connection to the database was successful\n",
      "Datos insertados exitosamente\n"
     ]
    }
   ],
   "source": [
    "def insertar_datos(df):\n",
    "    conn = connect_to_db()\n",
    "    if conn is None:\n",
    "        print(\"No se pudo establecer la conexión con la base de datos.\")\n",
    "        return\n",
    "\n",
    "    cursor = conn.cursor()\n",
    "    query = \"\"\"\n",
    "    INSERT INTO applicants (first_name, last_name, email_address, date_of_application, country_of_origin, experience_years, level_of_seniority, tech_stack, code_challenge_result, interview_score, hired_status)\n",
    "    VALUES (%s, %s, %s, %s, %s, %s, %s, %s, %s, %s, %s)\n",
    "    \"\"\"\n",
    "    try:\n",
    "        for index, row in df.iterrows():\n",
    "            is_hired = row['Code Challenge Score'] >= 7 and row['Technical Interview Score'] >= 7\n",
    "\n",
    "            # Crear una tupla con los datos a insertar\n",
    "            data = (row[\"First Name\"], row[\"Last Name\"], row[\"Email\"], row[\"Application Date\"], row[\"Country\"],\n",
    "                    row[\"YOE\"], row[\"Seniority\"], row[\"Technology\"], row[\"Code Challenge Score\"], row[\"Technical Interview Score\"], is_hired)\n",
    "\n",
    "            cursor.execute(query, data)\n",
    "\n",
    "        conn.commit()\n",
    "        print(\"Datos insertados exitosamente\")\n",
    "    except (Exception, psycopg2.DatabaseError) as error:\n",
    "        print(\"Error al insertar los datos:\", error)\n",
    "        conn.rollback()\n",
    "    finally:\n",
    "        cursor.close()\n",
    "\n",
    "insertar_datos(df)"
   ]
  }
 ],
 "metadata": {
  "kernelspec": {
   "display_name": "venv_workshop1",
   "language": "python",
   "name": "python3"
  },
  "language_info": {
   "codemirror_mode": {
    "name": "ipython",
    "version": 3
   },
   "file_extension": ".py",
   "mimetype": "text/x-python",
   "name": "python",
   "nbconvert_exporter": "python",
   "pygments_lexer": "ipython3",
   "version": "3.11.8"
  }
 },
 "nbformat": 4,
 "nbformat_minor": 2
}
